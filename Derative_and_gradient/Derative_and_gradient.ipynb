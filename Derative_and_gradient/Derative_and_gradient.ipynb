{
 "cells": [
  {
   "cell_type": "markdown",
   "id": "24db874f",
   "metadata": {},
   "source": [
    "# Производная функции одной переменной\n",
    "\n",
    "Для начала мы будем рассматривать производные функций одной переменной, потом обобщим это понятие на функции многих переменных.\n",
    "\n",
    "## Смысл производной\n",
    "\n",
    "Для начала рассмотрим функцию <br>\n",
    "$F(x) = x^4 + 5x^3 - 10x$ на интервале $x \\in[-5, 2]$:"
   ]
  },
  {
   "cell_type": "code",
   "execution_count": 1,
   "id": "74ea9772",
   "metadata": {},
   "outputs": [],
   "source": [
    "import numpy as np\n",
    "import matplotlib.pyplot as plt"
   ]
  },
  {
   "cell_type": "code",
   "execution_count": 2,
   "id": "b7b6f3ce",
   "metadata": {},
   "outputs": [],
   "source": [
    "def F(x):\n",
    "    return x**4 + 5*x**3 - 10*x"
   ]
  },
  {
   "cell_type": "code",
   "execution_count": 8,
   "id": "710b8e05",
   "metadata": {},
   "outputs": [
    {
     "data": {
      "image/png": "[encoded data removed]",
      "text/plain": [
       "<Figure size 720x504 with 1 Axes>"
      ]
     },
     "metadata": {
      "needs_background": "light"
     },
     "output_type": "display_data"
    }
   ],
   "source": [
    "x = np.linspace(-5, 3, 100) # Возвращает числа с равным интервалом в указанном интервале.\n",
    "y = list(map(F, x))\n",
    "\n",
    "plt.figure(figsize=(10, 7)) # Создайте новую фигуру или активируйте существующую.\n",
    "plt.plot(x, y) # Постройте график y и x в виде линий и / или маркеров.\n",
    "plt.ylabel('Y')\n",
    "plt.xlabel('X')\n",
    "plt.scatter([-3.5518, -0.9439, 0.7457], [F(-3.5518), F(-0.9439), F(0.7457)], lw=5) # Диаграмма рассеяния y против x с изменяющимся размером и/или цветом маркера.\n",
    "plt.show()"
   ]
  },
  {
   "cell_type": "markdown",
   "id": "69dc025c",
   "metadata": {},
   "source": [
    "Как мы видим, эта функция имеет два локальных минимума в точках $x \\sim -3.5518$ и $x \\sim 0.7457$, один локальный максимум в точке $x \\sim -0.9439$, а также она убывает на отрезках $[-5, -3.5518]$ и $[-0.9439, 0.7457]$ и возрастает на отрезках $[-3.5518, -0.9439]$ и $[0.7457, 2]$.\n",
    "\n",
    "Посмотрим на график в местах, где функция убывает. Это отрезки $[-5, -3.5518]$ и $[-0.9439, 0.7457]$. Заметим, что на этих двух отрезках функция убывает с разной скоростью. На отрезке $[-5, -3.5518]$ она убывает быстрее (\"склон\" функции более крутой, при изменении координаты $x$ на 1 значение функции $y$ меняется быстро), а на отрезке $[-0.9439, 0.7457]$ функция убывает медленнее (при изменении координаты $x$ на 1 значение функции $y$ меняется на меньше число, чем на предыдущем отрезке)\n",
    "\n",
    "Давайте научимся измерять скорость убывания/возрастания функции и введем строгие определения.\n",
    "\n",
    "<a href=\"https://ibb.co/hgW7bnD\"><img src=\"https://i.ibb.co/2FtnxLg/2020-01-28-01-00-23.jpg\" alt=\"2020-01-28-01-00-23\" border=\"0\"></a>\n",
    "\n",
    "Рассмотрим точки $(x_1, y_1) = (-5, 50)$ и $(x_2, y_2) \\sim (-0.8, -5)$ графика функции (см. рисунок). Отступим от них по координате $x$ на одинаковый шаг $\\Delta x > 0$, попадем на другие точки на графике. При этом величины координат $y_1$ и $y_2$ тоже поменяются на некоторые величины $\\Delta y_1$ и $\\Delta y_2$. \n",
    "\n",
    "Добавленные величины $\\Delta y_1$ и $\\Delta y_2$ назваются **приращениями функции**, а величина $\\Delta x$ &mdash; **приращением аргумента**\n",
    "\n",
    "Заметим, что $\\Delta y_2 < \\Delta y_1$\n",
    "\n",
    "Рассмотрим тогда отношения $\\frac{\\Delta y_1}{\\Delta x}$ и $\\frac{\\Delta y_2}{\\Delta x}$. Можно сказать, что эти отношения являются мерилами скорости убывания функции на отрезках $[x_1, x_1 + \\Delta x]$ и $[x_2, x_2 + \\Delta x]$ соответственно. <br>\n",
    "Действительно, отношение $\\frac{\\Delta y_1}{\\Delta x}$ показывает, на сколько в среднем меняется значение функции при изменении значения аргумента на 1. \n",
    "\n",
    "**Чем больше отношение $\\frac{\\Delta y}{\\Delta x}$ по модулю, тем выше скорость убывания/возрастания функции**.\n",
    "\n",
    "Заметим, что в премере выше приращения $\\Delta y_1$ и $\\Delta y_2$ &mdash; отрицательные числа (функция убывает). Значит, и отношение $\\frac{\\Delta y_1}{\\Delta x} < 0$. \n",
    "\n",
    "В местах, где функция возрастает, отношение $\\frac{\\Delta y_1}{\\Delta x}$ будет положительно.\n",
    "\n",
    "Итак, таким образом, **исследуя приращение функции при изменении аргумента в некоторой точке, можно делать выводы о возрастании/убывании функции и о скорости роста/убывания функции в окрестности этой точки**.\n",
    "\n",
    "Теперь встает логичный вопрос: какую величину $\\Delta x$ лучше всего выбирать, чтобы лучше оценить поведение функции в области у некоторой точки $(x, y)$?\n",
    "\n",
    "Давайте рассмотрим пример, где мы выбрали величину $\\Delta x$ больше, чем в предыдущем примере:\n",
    "\n",
    "<a href=\"https://ibb.co/58KxDzx\"><img src=\"https://i.ibb.co/qsJFG4F/2020-01-28-23-32-16.jpg\" alt=\"2020-01-28-23-32-16\" border=\"0\"></a>\n",
    "\n",
    "Мы находились в точке $(x_2, y_2) \\sim (0.8, 5)$ и сдвинулись по координате $x$ на величину $\\Delta x' > \\Delta x$, попали в точку $(x_2 + \\Delta x', y_2 + \\Delta y'_2)$. Заметим, что $\\Delta y'_2 > 0$ и отношение $\\frac{\\Delta y'_2}{\\Delta x'} > 0$. По опыту рассуждений выше, это нам говорит о том, что на отрезке $[x_2, x_2 + \\Delta x']$ функция возрастает в среднем на $\\frac{\\Delta y'_2}{\\Delta x'}$ при изменении значения аргумента на 1. \n",
    "\n",
    "Но так ли это?\n",
    "\n",
    "На графике мы явно видим, что в точке $(x_2, y_2)$ функция убывает, а затем возрастает и приходит в точку $(x_2 + \\Delta x', y_2 + \\Delta y'_2)$. То есть, наш вывод о том, как ведет себя график в окрестности точки $(x_2, y_2)$ , немного неточен. Отступив от точки $(x_2, y_2)$ на слишком большой шаг $\\Delta x'$, мы \"перешагнули\" через точку локального минимума функции и ошибочно решили, что в окрестности точки $(x_2, y_2)$ функция возрастает.\n",
    "\n",
    "Значит, чтобы делать верные выводы о том, как ведет себя функция в окрестности некоторой точки, нужно брать $\\Delta x$ маленьким. Но насколько маленьким?\n",
    "\n",
    "Ответ такой: бесконечно маленьким. Никакая конечная величина $\\Delta x$ не подойдет. Действительно, для любой величины $\\Delta x$ я могу найти такую функцию, что ее график будет выглядеть так:\n",
    "\n",
    "<a href=\"https://ibb.co/ZYNm4Sm\"><img src=\"https://i.ibb.co/Nm7SDrS/2020-01-29-00-13-31.jpg\" alt=\"2020-01-29-00-13-31\" border=\"0\"></a>\n",
    "\n",
    "То есть, мы все равно перескочем через точку локального минимума и не поймем, что функция в точке убывала, а не возрастала.\n",
    "\n",
    "Ну и, напоследок, даже если на отрезке $[x, x + \\Delta x]$ нет локальных минимумов/максимумов и функция постоянно убывает/возрастает, она может возрастать/убывать с разной скоростью. Например, функция $F(x) = x^4$ на отрезке $[1, 15]$ начинает возрастать быстрее (график становится \"круче\") при приближении к $x = 15$. И делать вывод о скорости роста функции в точке 1 как о средней скорости роста функции на отрезке $[1, 15]$ не совсем корректно."
   ]
  },
  {
   "cell_type": "code",
   "execution_count": null,
   "id": "3ea6568b",
   "metadata": {},
   "outputs": [],
   "source": []
  }
 ],
 "metadata": {
  "kernelspec": {
   "display_name": "Python 3",
   "language": "python",
   "name": "python3"
  },
  "language_info": {
   "codemirror_mode": {
    "name": "ipython",
    "version": 3
   },
   "file_extension": ".py",
   "mimetype": "text/x-python",
   "name": "python",
   "nbconvert_exporter": "python",
   "pygments_lexer": "ipython3",
   "version": "3.8.8"
  }
 },
 "nbformat": 4,
 "nbformat_minor": 5
}
